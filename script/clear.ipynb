{
 "cells": [
  {
   "cell_type": "code",
   "execution_count": 1,
   "metadata": {},
   "outputs": [],
   "source": [
    "import re\n"
   ]
  },
  {
   "cell_type": "code",
   "execution_count": 2,
   "metadata": {},
   "outputs": [],
   "source": [
    "text_path = '../docs/cpp-features/7.md'\n",
    "\n",
    "def extract_cpp_code_blocks(markdown_text):  \n",
    "    # 正则表达式匹配C++代码块  \n",
    "    # 假设代码块以```cpp开始，并以```结束，可能包含多行  \n",
    "    pattern = re.compile(r'```cpp\\n([\\s\\S]*?)```', re.DOTALL)  # re.DOTALL使得.可以匹配任何字符，包括换行符  \n",
    "      \n",
    "    # 查找所有匹配项  \n",
    "    matches = pattern.findall(markdown_text)  \n",
    "      \n",
    "    # 提取并返回代码块  \n",
    "    return [match.strip() for match in matches]  # strip()去除每个代码块前后的空白字符"
   ]
  },
  {
   "cell_type": "code",
   "execution_count": 3,
   "metadata": {},
   "outputs": [],
   "source": [
    "md_text = open(text_path, 'r', encoding='utf-8').read()\n",
    "blocks = extract_cpp_code_blocks(md_text)"
   ]
  },
  {
   "cell_type": "code",
   "execution_count": 5,
   "metadata": {},
   "outputs": [
    {
     "data": {
      "text/plain": [
       "298"
      ]
     },
     "execution_count": 5,
     "metadata": {},
     "output_type": "execute_result"
    }
   ],
   "source": []
  }
 ],
 "metadata": {
  "kernelspec": {
   "display_name": "Python 3",
   "language": "python",
   "name": "python3"
  },
  "language_info": {
   "codemirror_mode": {
    "name": "ipython",
    "version": 3
   },
   "file_extension": ".py",
   "mimetype": "text/x-python",
   "name": "python",
   "nbconvert_exporter": "python",
   "pygments_lexer": "ipython3",
   "version": "3.10.11"
  }
 },
 "nbformat": 4,
 "nbformat_minor": 2
}
